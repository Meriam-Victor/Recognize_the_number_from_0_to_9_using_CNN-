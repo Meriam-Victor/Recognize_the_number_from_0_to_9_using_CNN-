{
  "metadata": {
    "colab": {
      "provenance": [],
      "gpuType": "T4",
      "include_colab_link": true
    },
    "kernelspec": {
      "name": "python3",
      "display_name": "Python 3",
      "language": "python"
    },
    "language_info": {
      "name": "python",
      "version": "3.10.13",
      "mimetype": "text/x-python",
      "codemirror_mode": {
        "name": "ipython",
        "version": 3
      },
      "pygments_lexer": "ipython3",
      "nbconvert_exporter": "python",
      "file_extension": ".py"
    },
    "accelerator": "GPU",
    "kaggle": {
      "accelerator": "nvidiaTeslaT4",
      "dataSources": [
        {
          "sourceId": 8256010,
          "sourceType": "datasetVersion",
          "datasetId": 4899506
        }
      ],
      "dockerImageVersionId": 30699,
      "isInternetEnabled": true,
      "language": "python",
      "sourceType": "notebook",
      "isGpuEnabled": true
    }
  },
  "nbformat_minor": 0,
  "nbformat": 4,
  "cells": [
    {
      "cell_type": "markdown",
      "metadata": {
        "id": "view-in-github",
        "colab_type": "text"
      },
      "source": [
        "<a href=\"https://colab.research.google.com/github/Meriam-Victor/Recognize_the_number_from_0_to_9_using_CNN-/blob/main/Recognize_the_number_from_0_to_9_using_CNN_.ipynb\" target=\"_parent\"><img src=\"https://colab.research.google.com/assets/colab-badge.svg\" alt=\"Open In Colab\"/></a>"
      ]
    },
    {
      "cell_type": "code",
      "source": [
        "pip install --upgrade tensorflow\n"
      ],
      "metadata": {
        "_kg_hide-output": false,
        "trusted": true,
        "id": "zpJOC412PBJa"
      },
      "execution_count": null,
      "outputs": []
    },
    {
      "cell_type": "code",
      "source": [
        "import os\n",
        "import numpy as np\n",
        "import pandas as pd\n",
        "import tensorflow as tf\n",
        "import librosa\n",
        "from tensorflow.keras import layers, models\n",
        "from sklearn.model_selection import train_test_split\n",
        "from tensorflow.keras.models import Sequential\n"
      ],
      "metadata": {
        "execution": {
          "iopub.status.busy": "2024-04-30T13:59:16.286068Z",
          "iopub.execute_input": "2024-04-30T13:59:16.286447Z",
          "iopub.status.idle": "2024-04-30T13:59:20.033315Z",
          "shell.execute_reply.started": "2024-04-30T13:59:16.286418Z",
          "shell.execute_reply": "2024-04-30T13:59:20.032393Z"
        },
        "trusted": true,
        "id": "MT3VHmBOPBJh"
      },
      "execution_count": null,
      "outputs": []
    },
    {
      "cell_type": "code",
      "source": [
        "dataset_path = '/kaggle/input/0-9-dataset/0-9_dataset/0-9_dataset'\n",
        "folders = os.listdir(dataset_path)\n"
      ],
      "metadata": {
        "execution": {
          "iopub.status.busy": "2024-04-30T13:59:22.163603Z",
          "iopub.execute_input": "2024-04-30T13:59:22.164209Z",
          "iopub.status.idle": "2024-04-30T13:59:22.171780Z",
          "shell.execute_reply.started": "2024-04-30T13:59:22.164180Z",
          "shell.execute_reply": "2024-04-30T13:59:22.170842Z"
        },
        "trusted": true,
        "id": "uZghjzRyPBJi"
      },
      "execution_count": null,
      "outputs": []
    },
    {
      "cell_type": "code",
      "source": [
        "print(folders)"
      ],
      "metadata": {
        "execution": {
          "iopub.status.busy": "2024-04-30T13:59:23.775517Z",
          "iopub.execute_input": "2024-04-30T13:59:23.775900Z",
          "iopub.status.idle": "2024-04-30T13:59:23.781012Z",
          "shell.execute_reply.started": "2024-04-30T13:59:23.775867Z",
          "shell.execute_reply": "2024-04-30T13:59:23.780156Z"
        },
        "trusted": true,
        "id": "7DLtlAtOPBJj",
        "outputId": "2de5fc9f-95e1-461f-f50b-99eba082849c"
      },
      "execution_count": null,
      "outputs": [
        {
          "name": "stdout",
          "text": "['two', 'four', 'five', 'nine', 'six', 'zero', 'eight', 'seven', 'three', 'one']\n",
          "output_type": "stream"
        }
      ]
    },
    {
      "cell_type": "code",
      "source": [
        "\n",
        "def load_wav_files_and_extract_mfccs(folder_path):\n",
        "    mfccs_data = []\n",
        "    labels = []\n",
        "    try:\n",
        "        for file in os.listdir(folder_path):\n",
        "            if file.endswith('.wav'):\n",
        "                audio_file_path = os.path.join(folder_path, file)\n",
        "                audio_data, audio_sample_rate = librosa.load(audio_file_path)\n",
        "\n",
        "                mfcc_fea = np.mean(librosa.feature.mfcc(y=audio_data, sr=audio_sample_rate, n_mfcc=40).T, axis=0)\n",
        "                mfccs_data.append(mfcc_fea)\n",
        "                labels.append(os.path.basename(folder_path))\n",
        "\n",
        "    except FileNotFoundError:\n",
        "        print(f\"Folder not found: {folder_path}\")\n",
        "    except Exception as e:\n",
        "        print(f\"Error loading files from {folder_path}: {e}\")\n",
        "    return mfccs_data, labels\n"
      ],
      "metadata": {
        "execution": {
          "iopub.status.busy": "2024-04-30T13:59:26.168382Z",
          "iopub.execute_input": "2024-04-30T13:59:26.169091Z",
          "iopub.status.idle": "2024-04-30T13:59:26.176690Z",
          "shell.execute_reply.started": "2024-04-30T13:59:26.169052Z",
          "shell.execute_reply": "2024-04-30T13:59:26.175620Z"
        },
        "trusted": true,
        "id": "xpGsUsKNPBJl"
      },
      "execution_count": null,
      "outputs": []
    },
    {
      "cell_type": "code",
      "source": [
        "\n",
        "# Create empty lists to store MFCC features and labels\n",
        "mfccs_data = []\n",
        "labels = []\n",
        "\n",
        "# Load all files and labels\n",
        "for folder in folders:\n",
        "    folder_path = os.path.join(dataset_path, folder)\n",
        "    folder_mfccs, folder_labels = load_wav_files_and_extract_mfccs(folder_path)\n",
        "    mfccs_data.extend(folder_mfccs)\n",
        "    labels.extend(folder_labels)"
      ],
      "metadata": {
        "execution": {
          "iopub.status.busy": "2024-04-30T13:59:30.066472Z",
          "iopub.execute_input": "2024-04-30T13:59:30.066851Z",
          "iopub.status.idle": "2024-04-30T14:06:00.285414Z",
          "shell.execute_reply.started": "2024-04-30T13:59:30.066826Z",
          "shell.execute_reply": "2024-04-30T14:06:00.283934Z"
        },
        "trusted": true,
        "id": "eh2Y7IUVPBJl"
      },
      "execution_count": null,
      "outputs": []
    },
    {
      "cell_type": "code",
      "source": [
        "print(len(mfccs_data))"
      ],
      "metadata": {
        "execution": {
          "iopub.status.busy": "2024-04-30T14:06:00.580021Z",
          "iopub.execute_input": "2024-04-30T14:06:00.580927Z",
          "iopub.status.idle": "2024-04-30T14:06:00.585421Z",
          "shell.execute_reply.started": "2024-04-30T14:06:00.580899Z",
          "shell.execute_reply": "2024-04-30T14:06:00.584449Z"
        },
        "trusted": true,
        "id": "g4nA-TvLPBJm",
        "outputId": "4dbc7164-a775-468c-e4c8-19753c506962"
      },
      "execution_count": null,
      "outputs": [
        {
          "name": "stdout",
          "text": "23666\n",
          "output_type": "stream"
        }
      ]
    },
    {
      "cell_type": "code",
      "source": [
        "print(len(labels))"
      ],
      "metadata": {
        "execution": {
          "iopub.status.busy": "2024-04-30T14:06:06.451510Z",
          "iopub.execute_input": "2024-04-30T14:06:06.451906Z",
          "iopub.status.idle": "2024-04-30T14:06:06.456770Z",
          "shell.execute_reply.started": "2024-04-30T14:06:06.451874Z",
          "shell.execute_reply": "2024-04-30T14:06:06.455930Z"
        },
        "trusted": true,
        "id": "_hlFkxhEPBJn",
        "outputId": "974e3d57-7c28-4a14-b773-bd6149f703ef"
      },
      "execution_count": null,
      "outputs": [
        {
          "name": "stdout",
          "text": "23666\n",
          "output_type": "stream"
        }
      ]
    },
    {
      "cell_type": "code",
      "source": [
        "# Convert lists to numpy arrays for easier manipulation\n",
        "mfccs_data = np.array(mfccs_data)\n",
        "labels = np.array(labels)\n",
        "\n",
        "print(mfccs_data.shape)\n",
        "print(labels.shape)"
      ],
      "metadata": {
        "execution": {
          "iopub.status.busy": "2024-04-30T14:06:10.373451Z",
          "iopub.execute_input": "2024-04-30T14:06:10.374441Z",
          "iopub.status.idle": "2024-04-30T14:06:10.421607Z",
          "shell.execute_reply.started": "2024-04-30T14:06:10.374390Z",
          "shell.execute_reply": "2024-04-30T14:06:10.420643Z"
        },
        "trusted": true,
        "id": "2P-qYYYmPBJo",
        "outputId": "349b6f67-b2ec-4bed-f039-f19f46a4dbbf"
      },
      "execution_count": null,
      "outputs": [
        {
          "name": "stdout",
          "text": "(23666, 40)\n(23666,)\n",
          "output_type": "stream"
        }
      ]
    },
    {
      "cell_type": "code",
      "source": [
        "from sklearn.model_selection import train_test_split\n",
        "\n",
        "# First, split the dataset into training and temporary sets\n",
        "train_data, temp_data, train_labels, temp_labels = train_test_split(mfccs_data, labels, test_size=0.4, random_state=42)\n",
        "\n",
        "# Then, split the temporary set into validation and testing sets\n",
        "val_data, test_data, val_labels, test_labels = train_test_split(temp_data, temp_labels, test_size=0.5, random_state=42)\n",
        "\n",
        "# Now you have your training, validation, and testing sets\n",
        "print(\"Training data shape:\", len(train_data))\n",
        "print(\"Validation data shape:\", len(val_data))\n",
        "print(\"Testing data shape:\", len(test_data))\n",
        "print(\"Training labels shape:\", len(train_labels))\n",
        "print(\"Validation labels shape:\", len(val_labels))\n",
        "print(\"Testing labels shape:\", len(test_labels))"
      ],
      "metadata": {
        "execution": {
          "iopub.status.busy": "2024-04-30T14:06:15.101466Z",
          "iopub.execute_input": "2024-04-30T14:06:15.101852Z",
          "iopub.status.idle": "2024-04-30T14:06:15.119514Z",
          "shell.execute_reply.started": "2024-04-30T14:06:15.101825Z",
          "shell.execute_reply": "2024-04-30T14:06:15.118594Z"
        },
        "trusted": true,
        "id": "VDLC-cDQPBJp",
        "outputId": "dd58ed82-9587-4a81-f258-3d1bcf25a344"
      },
      "execution_count": null,
      "outputs": [
        {
          "name": "stdout",
          "text": "Training data shape: 14199\nValidation data shape: 4733\nTesting data shape: 4734\nTraining labels shape: 14199\nValidation labels shape: 4733\nTesting labels shape: 4734\n",
          "output_type": "stream"
        }
      ]
    },
    {
      "cell_type": "code",
      "source": [
        "\n",
        "# def preprocess_audio(audio, target_length=16000):\n",
        "#     try:\n",
        "#         # Pad or truncate the audio to the target length\n",
        "#         if len(audio) < target_length:\n",
        "#             padding_before = (target_length - len(audio)) // 2\n",
        "#             padding_after = target_length - len(audio) - padding_before\n",
        "#             audio = np.pad(audio, (padding_before, padding_after), 'constant', constant_values=(0, 0))\n",
        "#         else:\n",
        "#             audio = audio[:target_length]\n",
        "#         return audio\n",
        "#     except Exception as e:\n",
        "#         print(f\"Error processing audio: {e}\")\n",
        "\n",
        "def preprocess_labels(labels):\n",
        "    label_mapping = {'zero': 0, 'one': 1, 'two': 2, 'three': 3, 'four': 4, 'five': 5, 'six': 6, 'seven': 7, 'eight': 8, 'nine': 9}\n",
        "\n",
        "    # Convert string labels to numerical values\n",
        "    labels = [label_mapping[label] for label in labels]\n",
        "\n",
        "    # Ensure labels is a 1D tensor\n",
        "    labels_tensor = tf.constant(labels, dtype=tf.int32)\n",
        "\n",
        "    # One-hot encode the labels\n",
        "    one_hot_labels = tf.one_hot(labels_tensor, depth=10)\n",
        "\n",
        "    return one_hot_labels\n"
      ],
      "metadata": {
        "execution": {
          "iopub.status.busy": "2024-04-30T14:06:23.900768Z",
          "iopub.execute_input": "2024-04-30T14:06:23.901147Z",
          "iopub.status.idle": "2024-04-30T14:06:23.908016Z",
          "shell.execute_reply.started": "2024-04-30T14:06:23.901120Z",
          "shell.execute_reply": "2024-04-30T14:06:23.907075Z"
        },
        "trusted": true,
        "id": "XovUrrSYPBJq"
      },
      "execution_count": null,
      "outputs": []
    },
    {
      "cell_type": "code",
      "source": [
        "# train_audio = [preprocess_audio(file) for file in train_data]\n",
        "# val_audio = [preprocess_audio(file) for file in val_data]\n",
        "# test_audio = [preprocess_audio(file) for file in test_data]\n"
      ],
      "metadata": {
        "trusted": true,
        "id": "rphl5SXNPBJq"
      },
      "execution_count": null,
      "outputs": []
    },
    {
      "cell_type": "code",
      "source": [
        "# print(f\"Number of preprocessed audio files: {len(train_audio)}\")\n",
        "# print(f\"Number of preprocessed audio files: {len(val_audio)}\")\n",
        "# print(f\"Number of preprocessed audio files: {len(test_audio)}\")\n"
      ],
      "metadata": {
        "trusted": true,
        "id": "kLnjRrXdPBJr"
      },
      "execution_count": null,
      "outputs": []
    },
    {
      "cell_type": "code",
      "source": [
        "\n",
        "train_num_labels = [preprocess_labels(train_labels)]\n",
        "val_num_labels = [preprocess_labels(val_labels)]\n",
        "test_num_labels = [preprocess_labels(test_labels)]\n"
      ],
      "metadata": {
        "execution": {
          "iopub.status.busy": "2024-04-30T14:06:31.273278Z",
          "iopub.execute_input": "2024-04-30T14:06:31.274169Z",
          "iopub.status.idle": "2024-04-30T14:06:31.877750Z",
          "shell.execute_reply.started": "2024-04-30T14:06:31.274134Z",
          "shell.execute_reply": "2024-04-30T14:06:31.876830Z"
        },
        "trusted": true,
        "id": "mSDuZY9QPBJr"
      },
      "execution_count": null,
      "outputs": []
    },
    {
      "cell_type": "code",
      "source": [
        "print(f\"Number of preprocessed labels: {len(train_labels)}\")\n",
        "print(f\"Number of preprocessed labels: {len(val_labels)}\")\n",
        "print(f\"Number of preprocessed labels: {len(test_labels)}\")\n"
      ],
      "metadata": {
        "execution": {
          "iopub.status.busy": "2024-04-30T14:06:35.575347Z",
          "iopub.execute_input": "2024-04-30T14:06:35.576196Z",
          "iopub.status.idle": "2024-04-30T14:06:35.581273Z",
          "shell.execute_reply.started": "2024-04-30T14:06:35.576162Z",
          "shell.execute_reply": "2024-04-30T14:06:35.580173Z"
        },
        "trusted": true,
        "id": "JAwBcmugPBJr",
        "outputId": "0219c608-9652-4001-8901-6b7345710c5b"
      },
      "execution_count": null,
      "outputs": [
        {
          "name": "stdout",
          "text": "Number of preprocessed labels: 14199\nNumber of preprocessed labels: 4733\nNumber of preprocessed labels: 4734\n",
          "output_type": "stream"
        }
      ]
    },
    {
      "cell_type": "code",
      "source": [
        "print(\"Train data shape:\", np.array(train_data).shape)\n",
        "print(\"Validation data shape:\", np.array(val_data).shape)\n",
        "print(\"Test data shape:\", np.array(test_data).shape)\n"
      ],
      "metadata": {
        "execution": {
          "iopub.status.busy": "2024-04-30T14:06:39.510493Z",
          "iopub.execute_input": "2024-04-30T14:06:39.511242Z",
          "iopub.status.idle": "2024-04-30T14:06:39.518218Z",
          "shell.execute_reply.started": "2024-04-30T14:06:39.511209Z",
          "shell.execute_reply": "2024-04-30T14:06:39.517375Z"
        },
        "trusted": true,
        "id": "j6Lwdv4XPBJs",
        "outputId": "51695d61-21c5-4a2f-9201-6e6cdacca345"
      },
      "execution_count": null,
      "outputs": [
        {
          "name": "stdout",
          "text": "Train data shape: (14199, 40)\nValidation data shape: (4733, 40)\nTest data shape: (4734, 40)\n",
          "output_type": "stream"
        }
      ]
    },
    {
      "cell_type": "code",
      "source": [
        "print(\"Train labels shape:\", np.array(train_num_labels).shape)\n",
        "print(\"Validation labels shape:\", np.array(val_num_labels).shape)\n",
        "print(\"Test labels shape:\", np.array(test_num_labels).shape)\n"
      ],
      "metadata": {
        "execution": {
          "iopub.status.busy": "2024-04-30T14:06:42.001535Z",
          "iopub.execute_input": "2024-04-30T14:06:42.002455Z",
          "iopub.status.idle": "2024-04-30T14:06:42.009907Z",
          "shell.execute_reply.started": "2024-04-30T14:06:42.002418Z",
          "shell.execute_reply": "2024-04-30T14:06:42.008963Z"
        },
        "trusted": true,
        "id": "u6X5eNHQPBJs",
        "outputId": "a1d3748b-f0e6-44d5-86a4-0dce25719d79"
      },
      "execution_count": null,
      "outputs": [
        {
          "name": "stdout",
          "text": "Train labels shape: (1, 14199, 10)\nValidation labels shape: (1, 4733, 10)\nTest labels shape: (1, 4734, 10)\n",
          "output_type": "stream"
        }
      ]
    },
    {
      "cell_type": "code",
      "source": [
        "# Remove the extra dimension from the labels\n",
        "train_num_labels = np.squeeze(train_num_labels, axis=0)\n",
        "val_num_labels = np.squeeze(val_num_labels, axis=0)\n",
        "test_num_labels = np.squeeze(test_num_labels, axis=0)"
      ],
      "metadata": {
        "execution": {
          "iopub.status.busy": "2024-04-30T14:09:50.582150Z",
          "iopub.execute_input": "2024-04-30T14:09:50.582941Z",
          "iopub.status.idle": "2024-04-30T14:09:50.588523Z",
          "shell.execute_reply.started": "2024-04-30T14:09:50.582909Z",
          "shell.execute_reply": "2024-04-30T14:09:50.587532Z"
        },
        "trusted": true,
        "id": "0oTpVa_iPBJt"
      },
      "execution_count": null,
      "outputs": []
    },
    {
      "cell_type": "code",
      "source": [
        "print(\"Train labels shape:\", np.array(train_num_labels).shape)\n",
        "print(\"Validation labels shape:\", np.array(val_num_labels).shape)\n",
        "print(\"Test labels shape:\", np.array(test_num_labels).shape)\n"
      ],
      "metadata": {
        "execution": {
          "iopub.status.busy": "2024-04-30T14:09:52.371185Z",
          "iopub.execute_input": "2024-04-30T14:09:52.371527Z",
          "iopub.status.idle": "2024-04-30T14:09:52.377643Z",
          "shell.execute_reply.started": "2024-04-30T14:09:52.371503Z",
          "shell.execute_reply": "2024-04-30T14:09:52.376700Z"
        },
        "trusted": true,
        "id": "pVuFwr5lPBJt",
        "outputId": "e8ade282-55f6-4740-bf95-9927b34156b4"
      },
      "execution_count": null,
      "outputs": [
        {
          "name": "stdout",
          "text": "Train labels shape: (14199, 10)\nValidation labels shape: (4733, 10)\nTest labels shape: (4734, 10)\n",
          "output_type": "stream"
        }
      ]
    },
    {
      "cell_type": "code",
      "source": [
        "from tensorflow.keras.models import Sequential\n",
        "from tensorflow.keras.layers import Dense, Dropout, BatchNormalization, Flatten, Conv1D, MaxPooling1D\n",
        "from tensorflow.keras.regularizers import l2\n",
        "\n",
        "def create_model():\n",
        "    model = Sequential([\n",
        "        Conv1D(filters=64, kernel_size=3, activation='relu', input_shape=(40, 1), kernel_regularizer=l2(0.001)),\n",
        "        BatchNormalization(),\n",
        "        MaxPooling1D(pool_size=2),\n",
        "        Conv1D(filters=128, kernel_size=3, activation='relu', kernel_regularizer=l2(0.001)),\n",
        "        MaxPooling1D(pool_size=2),\n",
        "        BatchNormalization(),\n",
        "        MaxPooling1D(pool_size=2),\n",
        "        Dropout(0.3),\n",
        "        Conv1D(filters=128, kernel_size=3, activation='relu', kernel_regularizer=l2(0.001)),\n",
        "        BatchNormalization(),\n",
        "        MaxPooling1D(pool_size=2),\n",
        "        Dropout(0.3),\n",
        "        Flatten(),\n",
        "        Dense(512, activation='relu'),\n",
        "        Dense(256, activation='relu'),\n",
        "        Dense(128, activation='relu'),\n",
        "        Dense(64, activation='relu'),\n",
        "        Dense(32, activation='relu'),\n",
        "        Dense(10, activation='softmax', kernel_regularizer=l2(0.001))\n",
        "    ])\n",
        "\n",
        "    model.compile(optimizer='adam',\n",
        "                 loss='categorical_crossentropy',\n",
        "                 metrics=['accuracy'])\n",
        "\n",
        "    return model\n",
        "\n",
        "# Create the model\n",
        "model = create_model()\n",
        "\n",
        "# Print the model summary\n",
        "model.summary()\n"
      ],
      "metadata": {
        "execution": {
          "iopub.status.busy": "2024-04-30T14:43:29.911071Z",
          "iopub.execute_input": "2024-04-30T14:43:29.911810Z",
          "iopub.status.idle": "2024-04-30T14:43:30.056326Z",
          "shell.execute_reply.started": "2024-04-30T14:43:29.911774Z",
          "shell.execute_reply": "2024-04-30T14:43:30.055460Z"
        },
        "trusted": true,
        "id": "lDgxCWgePBJt",
        "outputId": "a3e94970-5800-42c1-aecc-b177b58a8295"
      },
      "execution_count": null,
      "outputs": [
        {
          "output_type": "display_data",
          "data": {
            "text/plain": "\u001b[1mModel: \"sequential_13\"\u001b[0m\n",
            "text/html": "<pre style=\"white-space:pre;overflow-x:auto;line-height:normal;font-family:Menlo,'DejaVu Sans Mono',consolas,'Courier New',monospace\"><span style=\"font-weight: bold\">Model: \"sequential_13\"</span>\n</pre>\n"
          },
          "metadata": {}
        },
        {
          "output_type": "display_data",
          "data": {
            "text/plain": "┏━━━━━━━━━━━━━━━━━━━━━━━━━━━━━━━━━┳━━━━━━━━━━━━━━━━━━━━━━━━┳━━━━━━━━━━━━━━━┓\n┃\u001b[1m \u001b[0m\u001b[1mLayer (type)                   \u001b[0m\u001b[1m \u001b[0m┃\u001b[1m \u001b[0m\u001b[1mOutput Shape          \u001b[0m\u001b[1m \u001b[0m┃\u001b[1m \u001b[0m\u001b[1m      Param #\u001b[0m\u001b[1m \u001b[0m┃\n┡━━━━━━━━━━━━━━━━━━━━━━━━━━━━━━━━━╇━━━━━━━━━━━━━━━━━━━━━━━━╇━━━━━━━━━━━━━━━┩\n│ conv1d_9 (\u001b[38;5;33mConv1D\u001b[0m)               │ (\u001b[38;5;45mNone\u001b[0m, \u001b[38;5;34m38\u001b[0m, \u001b[38;5;34m64\u001b[0m)         │           \u001b[38;5;34m256\u001b[0m │\n├─────────────────────────────────┼────────────────────────┼───────────────┤\n│ batch_normalization_23          │ (\u001b[38;5;45mNone\u001b[0m, \u001b[38;5;34m38\u001b[0m, \u001b[38;5;34m64\u001b[0m)         │           \u001b[38;5;34m256\u001b[0m │\n│ (\u001b[38;5;33mBatchNormalization\u001b[0m)            │                        │               │\n├─────────────────────────────────┼────────────────────────┼───────────────┤\n│ max_pooling1d_12 (\u001b[38;5;33mMaxPooling1D\u001b[0m) │ (\u001b[38;5;45mNone\u001b[0m, \u001b[38;5;34m19\u001b[0m, \u001b[38;5;34m64\u001b[0m)         │             \u001b[38;5;34m0\u001b[0m │\n├─────────────────────────────────┼────────────────────────┼───────────────┤\n│ conv1d_10 (\u001b[38;5;33mConv1D\u001b[0m)              │ (\u001b[38;5;45mNone\u001b[0m, \u001b[38;5;34m17\u001b[0m, \u001b[38;5;34m128\u001b[0m)        │        \u001b[38;5;34m24,704\u001b[0m │\n├─────────────────────────────────┼────────────────────────┼───────────────┤\n│ max_pooling1d_13 (\u001b[38;5;33mMaxPooling1D\u001b[0m) │ (\u001b[38;5;45mNone\u001b[0m, \u001b[38;5;34m8\u001b[0m, \u001b[38;5;34m128\u001b[0m)         │             \u001b[38;5;34m0\u001b[0m │\n├─────────────────────────────────┼────────────────────────┼───────────────┤\n│ batch_normalization_24          │ (\u001b[38;5;45mNone\u001b[0m, \u001b[38;5;34m8\u001b[0m, \u001b[38;5;34m128\u001b[0m)         │           \u001b[38;5;34m512\u001b[0m │\n│ (\u001b[38;5;33mBatchNormalization\u001b[0m)            │                        │               │\n├─────────────────────────────────┼────────────────────────┼───────────────┤\n│ max_pooling1d_14 (\u001b[38;5;33mMaxPooling1D\u001b[0m) │ (\u001b[38;5;45mNone\u001b[0m, \u001b[38;5;34m4\u001b[0m, \u001b[38;5;34m128\u001b[0m)         │             \u001b[38;5;34m0\u001b[0m │\n├─────────────────────────────────┼────────────────────────┼───────────────┤\n│ dropout_16 (\u001b[38;5;33mDropout\u001b[0m)            │ (\u001b[38;5;45mNone\u001b[0m, \u001b[38;5;34m4\u001b[0m, \u001b[38;5;34m128\u001b[0m)         │             \u001b[38;5;34m0\u001b[0m │\n├─────────────────────────────────┼────────────────────────┼───────────────┤\n│ conv1d_11 (\u001b[38;5;33mConv1D\u001b[0m)              │ (\u001b[38;5;45mNone\u001b[0m, \u001b[38;5;34m2\u001b[0m, \u001b[38;5;34m128\u001b[0m)         │        \u001b[38;5;34m49,280\u001b[0m │\n├─────────────────────────────────┼────────────────────────┼───────────────┤\n│ batch_normalization_25          │ (\u001b[38;5;45mNone\u001b[0m, \u001b[38;5;34m2\u001b[0m, \u001b[38;5;34m128\u001b[0m)         │           \u001b[38;5;34m512\u001b[0m │\n│ (\u001b[38;5;33mBatchNormalization\u001b[0m)            │                        │               │\n├─────────────────────────────────┼────────────────────────┼───────────────┤\n│ max_pooling1d_15 (\u001b[38;5;33mMaxPooling1D\u001b[0m) │ (\u001b[38;5;45mNone\u001b[0m, \u001b[38;5;34m1\u001b[0m, \u001b[38;5;34m128\u001b[0m)         │             \u001b[38;5;34m0\u001b[0m │\n├─────────────────────────────────┼────────────────────────┼───────────────┤\n│ dropout_17 (\u001b[38;5;33mDropout\u001b[0m)            │ (\u001b[38;5;45mNone\u001b[0m, \u001b[38;5;34m1\u001b[0m, \u001b[38;5;34m128\u001b[0m)         │             \u001b[38;5;34m0\u001b[0m │\n├─────────────────────────────────┼────────────────────────┼───────────────┤\n│ flatten_9 (\u001b[38;5;33mFlatten\u001b[0m)             │ (\u001b[38;5;45mNone\u001b[0m, \u001b[38;5;34m128\u001b[0m)            │             \u001b[38;5;34m0\u001b[0m │\n├─────────────────────────────────┼────────────────────────┼───────────────┤\n│ dense_69 (\u001b[38;5;33mDense\u001b[0m)                │ (\u001b[38;5;45mNone\u001b[0m, \u001b[38;5;34m512\u001b[0m)            │        \u001b[38;5;34m66,048\u001b[0m │\n├─────────────────────────────────┼────────────────────────┼───────────────┤\n│ dense_70 (\u001b[38;5;33mDense\u001b[0m)                │ (\u001b[38;5;45mNone\u001b[0m, \u001b[38;5;34m256\u001b[0m)            │       \u001b[38;5;34m131,328\u001b[0m │\n├─────────────────────────────────┼────────────────────────┼───────────────┤\n│ dense_71 (\u001b[38;5;33mDense\u001b[0m)                │ (\u001b[38;5;45mNone\u001b[0m, \u001b[38;5;34m128\u001b[0m)            │        \u001b[38;5;34m32,896\u001b[0m │\n├─────────────────────────────────┼────────────────────────┼───────────────┤\n│ dense_72 (\u001b[38;5;33mDense\u001b[0m)                │ (\u001b[38;5;45mNone\u001b[0m, \u001b[38;5;34m64\u001b[0m)             │         \u001b[38;5;34m8,256\u001b[0m │\n├─────────────────────────────────┼────────────────────────┼───────────────┤\n│ dense_73 (\u001b[38;5;33mDense\u001b[0m)                │ (\u001b[38;5;45mNone\u001b[0m, \u001b[38;5;34m32\u001b[0m)             │         \u001b[38;5;34m2,080\u001b[0m │\n├─────────────────────────────────┼────────────────────────┼───────────────┤\n│ dense_74 (\u001b[38;5;33mDense\u001b[0m)                │ (\u001b[38;5;45mNone\u001b[0m, \u001b[38;5;34m10\u001b[0m)             │           \u001b[38;5;34m330\u001b[0m │\n└─────────────────────────────────┴────────────────────────┴───────────────┘\n",
            "text/html": "<pre style=\"white-space:pre;overflow-x:auto;line-height:normal;font-family:Menlo,'DejaVu Sans Mono',consolas,'Courier New',monospace\">┏━━━━━━━━━━━━━━━━━━━━━━━━━━━━━━━━━┳━━━━━━━━━━━━━━━━━━━━━━━━┳━━━━━━━━━━━━━━━┓\n┃<span style=\"font-weight: bold\"> Layer (type)                    </span>┃<span style=\"font-weight: bold\"> Output Shape           </span>┃<span style=\"font-weight: bold\">       Param # </span>┃\n┡━━━━━━━━━━━━━━━━━━━━━━━━━━━━━━━━━╇━━━━━━━━━━━━━━━━━━━━━━━━╇━━━━━━━━━━━━━━━┩\n│ conv1d_9 (<span style=\"color: #0087ff; text-decoration-color: #0087ff\">Conv1D</span>)               │ (<span style=\"color: #00d7ff; text-decoration-color: #00d7ff\">None</span>, <span style=\"color: #00af00; text-decoration-color: #00af00\">38</span>, <span style=\"color: #00af00; text-decoration-color: #00af00\">64</span>)         │           <span style=\"color: #00af00; text-decoration-color: #00af00\">256</span> │\n├─────────────────────────────────┼────────────────────────┼───────────────┤\n│ batch_normalization_23          │ (<span style=\"color: #00d7ff; text-decoration-color: #00d7ff\">None</span>, <span style=\"color: #00af00; text-decoration-color: #00af00\">38</span>, <span style=\"color: #00af00; text-decoration-color: #00af00\">64</span>)         │           <span style=\"color: #00af00; text-decoration-color: #00af00\">256</span> │\n│ (<span style=\"color: #0087ff; text-decoration-color: #0087ff\">BatchNormalization</span>)            │                        │               │\n├─────────────────────────────────┼────────────────────────┼───────────────┤\n│ max_pooling1d_12 (<span style=\"color: #0087ff; text-decoration-color: #0087ff\">MaxPooling1D</span>) │ (<span style=\"color: #00d7ff; text-decoration-color: #00d7ff\">None</span>, <span style=\"color: #00af00; text-decoration-color: #00af00\">19</span>, <span style=\"color: #00af00; text-decoration-color: #00af00\">64</span>)         │             <span style=\"color: #00af00; text-decoration-color: #00af00\">0</span> │\n├─────────────────────────────────┼────────────────────────┼───────────────┤\n│ conv1d_10 (<span style=\"color: #0087ff; text-decoration-color: #0087ff\">Conv1D</span>)              │ (<span style=\"color: #00d7ff; text-decoration-color: #00d7ff\">None</span>, <span style=\"color: #00af00; text-decoration-color: #00af00\">17</span>, <span style=\"color: #00af00; text-decoration-color: #00af00\">128</span>)        │        <span style=\"color: #00af00; text-decoration-color: #00af00\">24,704</span> │\n├─────────────────────────────────┼────────────────────────┼───────────────┤\n│ max_pooling1d_13 (<span style=\"color: #0087ff; text-decoration-color: #0087ff\">MaxPooling1D</span>) │ (<span style=\"color: #00d7ff; text-decoration-color: #00d7ff\">None</span>, <span style=\"color: #00af00; text-decoration-color: #00af00\">8</span>, <span style=\"color: #00af00; text-decoration-color: #00af00\">128</span>)         │             <span style=\"color: #00af00; text-decoration-color: #00af00\">0</span> │\n├─────────────────────────────────┼────────────────────────┼───────────────┤\n│ batch_normalization_24          │ (<span style=\"color: #00d7ff; text-decoration-color: #00d7ff\">None</span>, <span style=\"color: #00af00; text-decoration-color: #00af00\">8</span>, <span style=\"color: #00af00; text-decoration-color: #00af00\">128</span>)         │           <span style=\"color: #00af00; text-decoration-color: #00af00\">512</span> │\n│ (<span style=\"color: #0087ff; text-decoration-color: #0087ff\">BatchNormalization</span>)            │                        │               │\n├─────────────────────────────────┼────────────────────────┼───────────────┤\n│ max_pooling1d_14 (<span style=\"color: #0087ff; text-decoration-color: #0087ff\">MaxPooling1D</span>) │ (<span style=\"color: #00d7ff; text-decoration-color: #00d7ff\">None</span>, <span style=\"color: #00af00; text-decoration-color: #00af00\">4</span>, <span style=\"color: #00af00; text-decoration-color: #00af00\">128</span>)         │             <span style=\"color: #00af00; text-decoration-color: #00af00\">0</span> │\n├─────────────────────────────────┼────────────────────────┼───────────────┤\n│ dropout_16 (<span style=\"color: #0087ff; text-decoration-color: #0087ff\">Dropout</span>)            │ (<span style=\"color: #00d7ff; text-decoration-color: #00d7ff\">None</span>, <span style=\"color: #00af00; text-decoration-color: #00af00\">4</span>, <span style=\"color: #00af00; text-decoration-color: #00af00\">128</span>)         │             <span style=\"color: #00af00; text-decoration-color: #00af00\">0</span> │\n├─────────────────────────────────┼────────────────────────┼───────────────┤\n│ conv1d_11 (<span style=\"color: #0087ff; text-decoration-color: #0087ff\">Conv1D</span>)              │ (<span style=\"color: #00d7ff; text-decoration-color: #00d7ff\">None</span>, <span style=\"color: #00af00; text-decoration-color: #00af00\">2</span>, <span style=\"color: #00af00; text-decoration-color: #00af00\">128</span>)         │        <span style=\"color: #00af00; text-decoration-color: #00af00\">49,280</span> │\n├─────────────────────────────────┼────────────────────────┼───────────────┤\n│ batch_normalization_25          │ (<span style=\"color: #00d7ff; text-decoration-color: #00d7ff\">None</span>, <span style=\"color: #00af00; text-decoration-color: #00af00\">2</span>, <span style=\"color: #00af00; text-decoration-color: #00af00\">128</span>)         │           <span style=\"color: #00af00; text-decoration-color: #00af00\">512</span> │\n│ (<span style=\"color: #0087ff; text-decoration-color: #0087ff\">BatchNormalization</span>)            │                        │               │\n├─────────────────────────────────┼────────────────────────┼───────────────┤\n│ max_pooling1d_15 (<span style=\"color: #0087ff; text-decoration-color: #0087ff\">MaxPooling1D</span>) │ (<span style=\"color: #00d7ff; text-decoration-color: #00d7ff\">None</span>, <span style=\"color: #00af00; text-decoration-color: #00af00\">1</span>, <span style=\"color: #00af00; text-decoration-color: #00af00\">128</span>)         │             <span style=\"color: #00af00; text-decoration-color: #00af00\">0</span> │\n├─────────────────────────────────┼────────────────────────┼───────────────┤\n│ dropout_17 (<span style=\"color: #0087ff; text-decoration-color: #0087ff\">Dropout</span>)            │ (<span style=\"color: #00d7ff; text-decoration-color: #00d7ff\">None</span>, <span style=\"color: #00af00; text-decoration-color: #00af00\">1</span>, <span style=\"color: #00af00; text-decoration-color: #00af00\">128</span>)         │             <span style=\"color: #00af00; text-decoration-color: #00af00\">0</span> │\n├─────────────────────────────────┼────────────────────────┼───────────────┤\n│ flatten_9 (<span style=\"color: #0087ff; text-decoration-color: #0087ff\">Flatten</span>)             │ (<span style=\"color: #00d7ff; text-decoration-color: #00d7ff\">None</span>, <span style=\"color: #00af00; text-decoration-color: #00af00\">128</span>)            │             <span style=\"color: #00af00; text-decoration-color: #00af00\">0</span> │\n├─────────────────────────────────┼────────────────────────┼───────────────┤\n│ dense_69 (<span style=\"color: #0087ff; text-decoration-color: #0087ff\">Dense</span>)                │ (<span style=\"color: #00d7ff; text-decoration-color: #00d7ff\">None</span>, <span style=\"color: #00af00; text-decoration-color: #00af00\">512</span>)            │        <span style=\"color: #00af00; text-decoration-color: #00af00\">66,048</span> │\n├─────────────────────────────────┼────────────────────────┼───────────────┤\n│ dense_70 (<span style=\"color: #0087ff; text-decoration-color: #0087ff\">Dense</span>)                │ (<span style=\"color: #00d7ff; text-decoration-color: #00d7ff\">None</span>, <span style=\"color: #00af00; text-decoration-color: #00af00\">256</span>)            │       <span style=\"color: #00af00; text-decoration-color: #00af00\">131,328</span> │\n├─────────────────────────────────┼────────────────────────┼───────────────┤\n│ dense_71 (<span style=\"color: #0087ff; text-decoration-color: #0087ff\">Dense</span>)                │ (<span style=\"color: #00d7ff; text-decoration-color: #00d7ff\">None</span>, <span style=\"color: #00af00; text-decoration-color: #00af00\">128</span>)            │        <span style=\"color: #00af00; text-decoration-color: #00af00\">32,896</span> │\n├─────────────────────────────────┼────────────────────────┼───────────────┤\n│ dense_72 (<span style=\"color: #0087ff; text-decoration-color: #0087ff\">Dense</span>)                │ (<span style=\"color: #00d7ff; text-decoration-color: #00d7ff\">None</span>, <span style=\"color: #00af00; text-decoration-color: #00af00\">64</span>)             │         <span style=\"color: #00af00; text-decoration-color: #00af00\">8,256</span> │\n├─────────────────────────────────┼────────────────────────┼───────────────┤\n│ dense_73 (<span style=\"color: #0087ff; text-decoration-color: #0087ff\">Dense</span>)                │ (<span style=\"color: #00d7ff; text-decoration-color: #00d7ff\">None</span>, <span style=\"color: #00af00; text-decoration-color: #00af00\">32</span>)             │         <span style=\"color: #00af00; text-decoration-color: #00af00\">2,080</span> │\n├─────────────────────────────────┼────────────────────────┼───────────────┤\n│ dense_74 (<span style=\"color: #0087ff; text-decoration-color: #0087ff\">Dense</span>)                │ (<span style=\"color: #00d7ff; text-decoration-color: #00d7ff\">None</span>, <span style=\"color: #00af00; text-decoration-color: #00af00\">10</span>)             │           <span style=\"color: #00af00; text-decoration-color: #00af00\">330</span> │\n└─────────────────────────────────┴────────────────────────┴───────────────┘\n</pre>\n"
          },
          "metadata": {}
        },
        {
          "output_type": "display_data",
          "data": {
            "text/plain": "\u001b[1m Total params: \u001b[0m\u001b[38;5;34m316,458\u001b[0m (1.21 MB)\n",
            "text/html": "<pre style=\"white-space:pre;overflow-x:auto;line-height:normal;font-family:Menlo,'DejaVu Sans Mono',consolas,'Courier New',monospace\"><span style=\"font-weight: bold\"> Total params: </span><span style=\"color: #00af00; text-decoration-color: #00af00\">316,458</span> (1.21 MB)\n</pre>\n"
          },
          "metadata": {}
        },
        {
          "output_type": "display_data",
          "data": {
            "text/plain": "\u001b[1m Trainable params: \u001b[0m\u001b[38;5;34m315,818\u001b[0m (1.20 MB)\n",
            "text/html": "<pre style=\"white-space:pre;overflow-x:auto;line-height:normal;font-family:Menlo,'DejaVu Sans Mono',consolas,'Courier New',monospace\"><span style=\"font-weight: bold\"> Trainable params: </span><span style=\"color: #00af00; text-decoration-color: #00af00\">315,818</span> (1.20 MB)\n</pre>\n"
          },
          "metadata": {}
        },
        {
          "output_type": "display_data",
          "data": {
            "text/plain": "\u001b[1m Non-trainable params: \u001b[0m\u001b[38;5;34m640\u001b[0m (2.50 KB)\n",
            "text/html": "<pre style=\"white-space:pre;overflow-x:auto;line-height:normal;font-family:Menlo,'DejaVu Sans Mono',consolas,'Courier New',monospace\"><span style=\"font-weight: bold\"> Non-trainable params: </span><span style=\"color: #00af00; text-decoration-color: #00af00\">640</span> (2.50 KB)\n</pre>\n"
          },
          "metadata": {}
        }
      ]
    },
    {
      "cell_type": "code",
      "source": [
        "batch_size = 16\n",
        "callback = tf.keras.callbacks.EarlyStopping(\n",
        "    monitor='val_loss', min_delta=0, patience=10, verbose=0, mode='auto',\n",
        "    baseline=None, restore_best_weights=False)\n",
        "\n",
        "history = model.fit(train_data,train_num_labels ,validation_data=(val_data, val_num_labels),\n",
        "            epochs=100,\n",
        "            callbacks = [callback],batch_size=batch_size)"
      ],
      "metadata": {
        "execution": {
          "iopub.status.busy": "2024-04-30T14:43:42.284458Z",
          "iopub.execute_input": "2024-04-30T14:43:42.284841Z",
          "iopub.status.idle": "2024-04-30T14:47:11.673322Z",
          "shell.execute_reply.started": "2024-04-30T14:43:42.284814Z",
          "shell.execute_reply": "2024-04-30T14:47:11.672346Z"
        },
        "trusted": true,
        "id": "ddeOCTG5PBJu",
        "outputId": "ad165f6b-1bf0-490a-fd59-cd9367971277"
      },
      "execution_count": null,
      "outputs": [
        {
          "name": "stdout",
          "text": "Epoch 1/100\n\u001b[1m888/888\u001b[0m \u001b[32m━━━━━━━━━━━━━━━━━━━━\u001b[0m\u001b[37m\u001b[0m \u001b[1m21s\u001b[0m 12ms/step - accuracy: 0.2538 - loss: 2.2563 - val_accuracy: 0.4179 - val_loss: 1.8455\nEpoch 2/100\n\u001b[1m888/888\u001b[0m \u001b[32m━━━━━━━━━━━━━━━━━━━━\u001b[0m\u001b[37m\u001b[0m \u001b[1m3s\u001b[0m 3ms/step - accuracy: 0.3855 - loss: 1.9099 - val_accuracy: 0.4323 - val_loss: 1.7661\nEpoch 3/100\n\u001b[1m888/888\u001b[0m \u001b[32m━━━━━━━━━━━━━━━━━━━━\u001b[0m\u001b[37m\u001b[0m \u001b[1m3s\u001b[0m 3ms/step - accuracy: 0.4182 - loss: 1.8358 - val_accuracy: 0.4547 - val_loss: 1.7201\nEpoch 4/100\n\u001b[1m888/888\u001b[0m \u001b[32m━━━━━━━━━━━━━━━━━━━━\u001b[0m\u001b[37m\u001b[0m \u001b[1m3s\u001b[0m 3ms/step - accuracy: 0.4203 - loss: 1.8146 - val_accuracy: 0.4767 - val_loss: 1.6626\nEpoch 5/100\n\u001b[1m888/888\u001b[0m \u001b[32m━━━━━━━━━━━━━━━━━━━━\u001b[0m\u001b[37m\u001b[0m \u001b[1m3s\u001b[0m 4ms/step - accuracy: 0.4371 - loss: 1.7764 - val_accuracy: 0.4813 - val_loss: 1.6511\nEpoch 6/100\n\u001b[1m888/888\u001b[0m \u001b[32m━━━━━━━━━━━━━━━━━━━━\u001b[0m\u001b[37m\u001b[0m \u001b[1m3s\u001b[0m 3ms/step - accuracy: 0.4378 - loss: 1.7685 - val_accuracy: 0.4752 - val_loss: 1.6498\nEpoch 7/100\n\u001b[1m888/888\u001b[0m \u001b[32m━━━━━━━━━━━━━━━━━━━━\u001b[0m\u001b[37m\u001b[0m \u001b[1m3s\u001b[0m 3ms/step - accuracy: 0.4478 - loss: 1.7474 - val_accuracy: 0.4758 - val_loss: 1.6540\nEpoch 8/100\n\u001b[1m888/888\u001b[0m \u001b[32m━━━━━━━━━━━━━━━━━━━━\u001b[0m\u001b[37m\u001b[0m \u001b[1m3s\u001b[0m 3ms/step - accuracy: 0.4574 - loss: 1.7210 - val_accuracy: 0.4792 - val_loss: 1.6407\nEpoch 9/100\n\u001b[1m888/888\u001b[0m \u001b[32m━━━━━━━━━━━━━━━━━━━━\u001b[0m\u001b[37m\u001b[0m \u001b[1m3s\u001b[0m 3ms/step - accuracy: 0.4543 - loss: 1.7080 - val_accuracy: 0.4840 - val_loss: 1.6384\nEpoch 10/100\n\u001b[1m888/888\u001b[0m \u001b[32m━━━━━━━━━━━━━━━━━━━━\u001b[0m\u001b[37m\u001b[0m \u001b[1m3s\u001b[0m 3ms/step - accuracy: 0.4602 - loss: 1.7012 - val_accuracy: 0.4923 - val_loss: 1.6331\nEpoch 11/100\n\u001b[1m888/888\u001b[0m \u001b[32m━━━━━━━━━━━━━━━━━━━━\u001b[0m\u001b[37m\u001b[0m \u001b[1m3s\u001b[0m 3ms/step - accuracy: 0.4551 - loss: 1.7098 - val_accuracy: 0.5073 - val_loss: 1.6037\nEpoch 12/100\n\u001b[1m888/888\u001b[0m \u001b[32m━━━━━━━━━━━━━━━━━━━━\u001b[0m\u001b[37m\u001b[0m \u001b[1m3s\u001b[0m 3ms/step - accuracy: 0.4532 - loss: 1.6921 - val_accuracy: 0.4868 - val_loss: 1.6413\nEpoch 13/100\n\u001b[1m888/888\u001b[0m \u001b[32m━━━━━━━━━━━━━━━━━━━━\u001b[0m\u001b[37m\u001b[0m \u001b[1m3s\u001b[0m 3ms/step - accuracy: 0.4593 - loss: 1.7014 - val_accuracy: 0.5060 - val_loss: 1.5872\nEpoch 14/100\n\u001b[1m888/888\u001b[0m \u001b[32m━━━━━━━━━━━━━━━━━━━━\u001b[0m\u001b[37m\u001b[0m \u001b[1m3s\u001b[0m 3ms/step - accuracy: 0.4663 - loss: 1.6794 - val_accuracy: 0.4739 - val_loss: 1.6545\nEpoch 15/100\n\u001b[1m888/888\u001b[0m \u001b[32m━━━━━━━━━━━━━━━━━━━━\u001b[0m\u001b[37m\u001b[0m \u001b[1m3s\u001b[0m 4ms/step - accuracy: 0.4721 - loss: 1.6856 - val_accuracy: 0.5043 - val_loss: 1.6192\nEpoch 16/100\n\u001b[1m888/888\u001b[0m \u001b[32m━━━━━━━━━━━━━━━━━━━━\u001b[0m\u001b[37m\u001b[0m \u001b[1m3s\u001b[0m 3ms/step - accuracy: 0.4653 - loss: 1.6949 - val_accuracy: 0.4900 - val_loss: 1.6530\nEpoch 17/100\n\u001b[1m888/888\u001b[0m \u001b[32m━━━━━━━━━━━━━━━━━━━━\u001b[0m\u001b[37m\u001b[0m \u001b[1m3s\u001b[0m 3ms/step - accuracy: 0.4741 - loss: 1.6702 - val_accuracy: 0.4756 - val_loss: 1.6558\nEpoch 18/100\n\u001b[1m888/888\u001b[0m \u001b[32m━━━━━━━━━━━━━━━━━━━━\u001b[0m\u001b[37m\u001b[0m \u001b[1m3s\u001b[0m 3ms/step - accuracy: 0.4753 - loss: 1.6646 - val_accuracy: 0.5090 - val_loss: 1.5921\nEpoch 19/100\n\u001b[1m888/888\u001b[0m \u001b[32m━━━━━━━━━━━━━━━━━━━━\u001b[0m\u001b[37m\u001b[0m \u001b[1m3s\u001b[0m 3ms/step - accuracy: 0.4716 - loss: 1.6548 - val_accuracy: 0.5126 - val_loss: 1.5685\nEpoch 20/100\n\u001b[1m888/888\u001b[0m \u001b[32m━━━━━━━━━━━━━━━━━━━━\u001b[0m\u001b[37m\u001b[0m \u001b[1m3s\u001b[0m 3ms/step - accuracy: 0.4778 - loss: 1.6571 - val_accuracy: 0.5102 - val_loss: 1.5933\nEpoch 21/100\n\u001b[1m888/888\u001b[0m \u001b[32m━━━━━━━━━━━━━━━━━━━━\u001b[0m\u001b[37m\u001b[0m \u001b[1m3s\u001b[0m 3ms/step - accuracy: 0.4748 - loss: 1.6541 - val_accuracy: 0.5126 - val_loss: 1.5892\nEpoch 22/100\n\u001b[1m888/888\u001b[0m \u001b[32m━━━━━━━━━━━━━━━━━━━━\u001b[0m\u001b[37m\u001b[0m \u001b[1m3s\u001b[0m 3ms/step - accuracy: 0.4842 - loss: 1.6492 - val_accuracy: 0.5098 - val_loss: 1.5790\nEpoch 23/100\n\u001b[1m888/888\u001b[0m \u001b[32m━━━━━━━━━━━━━━━━━━━━\u001b[0m\u001b[37m\u001b[0m \u001b[1m3s\u001b[0m 3ms/step - accuracy: 0.4911 - loss: 1.6374 - val_accuracy: 0.4931 - val_loss: 1.6244\nEpoch 24/100\n\u001b[1m888/888\u001b[0m \u001b[32m━━━━━━━━━━━━━━━━━━━━\u001b[0m\u001b[37m\u001b[0m \u001b[1m3s\u001b[0m 3ms/step - accuracy: 0.4905 - loss: 1.6151 - val_accuracy: 0.5029 - val_loss: 1.5907\nEpoch 25/100\n\u001b[1m888/888\u001b[0m \u001b[32m━━━━━━━━━━━━━━━━━━━━\u001b[0m\u001b[37m\u001b[0m \u001b[1m3s\u001b[0m 3ms/step - accuracy: 0.4944 - loss: 1.6135 - val_accuracy: 0.5035 - val_loss: 1.5895\nEpoch 26/100\n\u001b[1m888/888\u001b[0m \u001b[32m━━━━━━━━━━━━━━━━━━━━\u001b[0m\u001b[37m\u001b[0m \u001b[1m3s\u001b[0m 3ms/step - accuracy: 0.4879 - loss: 1.6246 - val_accuracy: 0.5227 - val_loss: 1.5492\nEpoch 27/100\n\u001b[1m888/888\u001b[0m \u001b[32m━━━━━━━━━━━━━━━━━━━━\u001b[0m\u001b[37m\u001b[0m \u001b[1m3s\u001b[0m 3ms/step - accuracy: 0.4942 - loss: 1.6221 - val_accuracy: 0.5134 - val_loss: 1.6047\nEpoch 28/100\n\u001b[1m888/888\u001b[0m \u001b[32m━━━━━━━━━━━━━━━━━━━━\u001b[0m\u001b[37m\u001b[0m \u001b[1m3s\u001b[0m 3ms/step - accuracy: 0.4800 - loss: 1.6323 - val_accuracy: 0.4993 - val_loss: 1.5895\nEpoch 29/100\n\u001b[1m888/888\u001b[0m \u001b[32m━━━━━━━━━━━━━━━━━━━━\u001b[0m\u001b[37m\u001b[0m \u001b[1m3s\u001b[0m 3ms/step - accuracy: 0.4926 - loss: 1.6126 - val_accuracy: 0.5193 - val_loss: 1.5479\nEpoch 30/100\n\u001b[1m888/888\u001b[0m \u001b[32m━━━━━━━━━━━━━━━━━━━━\u001b[0m\u001b[37m\u001b[0m \u001b[1m3s\u001b[0m 3ms/step - accuracy: 0.4962 - loss: 1.6075 - val_accuracy: 0.5174 - val_loss: 1.5456\nEpoch 31/100\n\u001b[1m888/888\u001b[0m \u001b[32m━━━━━━━━━━━━━━━━━━━━\u001b[0m\u001b[37m\u001b[0m \u001b[1m3s\u001b[0m 3ms/step - accuracy: 0.4945 - loss: 1.6077 - val_accuracy: 0.5160 - val_loss: 1.6017\nEpoch 32/100\n\u001b[1m888/888\u001b[0m \u001b[32m━━━━━━━━━━━━━━━━━━━━\u001b[0m\u001b[37m\u001b[0m \u001b[1m3s\u001b[0m 3ms/step - accuracy: 0.4932 - loss: 1.6075 - val_accuracy: 0.5172 - val_loss: 1.5548\nEpoch 33/100\n\u001b[1m888/888\u001b[0m \u001b[32m━━━━━━━━━━━━━━━━━━━━\u001b[0m\u001b[37m\u001b[0m \u001b[1m3s\u001b[0m 3ms/step - accuracy: 0.4928 - loss: 1.6099 - val_accuracy: 0.5284 - val_loss: 1.5433\nEpoch 34/100\n\u001b[1m888/888\u001b[0m \u001b[32m━━━━━━━━━━━━━━━━━━━━\u001b[0m\u001b[37m\u001b[0m \u001b[1m3s\u001b[0m 3ms/step - accuracy: 0.4938 - loss: 1.5887 - val_accuracy: 0.5269 - val_loss: 1.5416\nEpoch 35/100\n\u001b[1m888/888\u001b[0m \u001b[32m━━━━━━━━━━━━━━━━━━━━\u001b[0m\u001b[37m\u001b[0m \u001b[1m3s\u001b[0m 3ms/step - accuracy: 0.4944 - loss: 1.6085 - val_accuracy: 0.5242 - val_loss: 1.5529\nEpoch 36/100\n\u001b[1m888/888\u001b[0m \u001b[32m━━━━━━━━━━━━━━━━━━━━\u001b[0m\u001b[37m\u001b[0m \u001b[1m3s\u001b[0m 4ms/step - accuracy: 0.5036 - loss: 1.5887 - val_accuracy: 0.5012 - val_loss: 1.5827\nEpoch 37/100\n\u001b[1m888/888\u001b[0m \u001b[32m━━━━━━━━━━━━━━━━━━━━\u001b[0m\u001b[37m\u001b[0m \u001b[1m3s\u001b[0m 3ms/step - accuracy: 0.4884 - loss: 1.6066 - val_accuracy: 0.5189 - val_loss: 1.5473\nEpoch 38/100\n\u001b[1m888/888\u001b[0m \u001b[32m━━━━━━━━━━━━━━━━━━━━\u001b[0m\u001b[37m\u001b[0m \u001b[1m3s\u001b[0m 3ms/step - accuracy: 0.5025 - loss: 1.5795 - val_accuracy: 0.5183 - val_loss: 1.5589\nEpoch 39/100\n\u001b[1m888/888\u001b[0m \u001b[32m━━━━━━━━━━━━━━━━━━━━\u001b[0m\u001b[37m\u001b[0m \u001b[1m3s\u001b[0m 3ms/step - accuracy: 0.5028 - loss: 1.5722 - val_accuracy: 0.5132 - val_loss: 1.5927\nEpoch 40/100\n\u001b[1m888/888\u001b[0m \u001b[32m━━━━━━━━━━━━━━━━━━━━\u001b[0m\u001b[37m\u001b[0m \u001b[1m3s\u001b[0m 3ms/step - accuracy: 0.5111 - loss: 1.5790 - val_accuracy: 0.5282 - val_loss: 1.5418\nEpoch 41/100\n\u001b[1m888/888\u001b[0m \u001b[32m━━━━━━━━━━━━━━━━━━━━\u001b[0m\u001b[37m\u001b[0m \u001b[1m3s\u001b[0m 3ms/step - accuracy: 0.5019 - loss: 1.5862 - val_accuracy: 0.5195 - val_loss: 1.5830\nEpoch 42/100\n\u001b[1m888/888\u001b[0m \u001b[32m━━━━━━━━━━━━━━━━━━━━\u001b[0m\u001b[37m\u001b[0m \u001b[1m3s\u001b[0m 3ms/step - accuracy: 0.4968 - loss: 1.5796 - val_accuracy: 0.5267 - val_loss: 1.5311\nEpoch 43/100\n\u001b[1m888/888\u001b[0m \u001b[32m━━━━━━━━━━━━━━━━━━━━\u001b[0m\u001b[37m\u001b[0m \u001b[1m3s\u001b[0m 4ms/step - accuracy: 0.5085 - loss: 1.5693 - val_accuracy: 0.5219 - val_loss: 1.5573\nEpoch 44/100\n\u001b[1m888/888\u001b[0m \u001b[32m━━━━━━━━━━━━━━━━━━━━\u001b[0m\u001b[37m\u001b[0m \u001b[1m3s\u001b[0m 3ms/step - accuracy: 0.4996 - loss: 1.5971 - val_accuracy: 0.5350 - val_loss: 1.5342\nEpoch 45/100\n\u001b[1m888/888\u001b[0m \u001b[32m━━━━━━━━━━━━━━━━━━━━\u001b[0m\u001b[37m\u001b[0m \u001b[1m3s\u001b[0m 3ms/step - accuracy: 0.4993 - loss: 1.5782 - val_accuracy: 0.5286 - val_loss: 1.5215\nEpoch 46/100\n\u001b[1m888/888\u001b[0m \u001b[32m━━━━━━━━━━━━━━━━━━━━\u001b[0m\u001b[37m\u001b[0m \u001b[1m3s\u001b[0m 4ms/step - accuracy: 0.5164 - loss: 1.5587 - val_accuracy: 0.5257 - val_loss: 1.5412\nEpoch 47/100\n\u001b[1m888/888\u001b[0m \u001b[32m━━━━━━━━━━━━━━━━━━━━\u001b[0m\u001b[37m\u001b[0m \u001b[1m3s\u001b[0m 3ms/step - accuracy: 0.5166 - loss: 1.5543 - val_accuracy: 0.5198 - val_loss: 1.5364\nEpoch 48/100\n\u001b[1m888/888\u001b[0m \u001b[32m━━━━━━━━━━━━━━━━━━━━\u001b[0m\u001b[37m\u001b[0m \u001b[1m3s\u001b[0m 3ms/step - accuracy: 0.5112 - loss: 1.5550 - val_accuracy: 0.5252 - val_loss: 1.5453\nEpoch 49/100\n\u001b[1m888/888\u001b[0m \u001b[32m━━━━━━━━━━━━━━━━━━━━\u001b[0m\u001b[37m\u001b[0m \u001b[1m3s\u001b[0m 3ms/step - accuracy: 0.5118 - loss: 1.5481 - val_accuracy: 0.5233 - val_loss: 1.5243\nEpoch 50/100\n\u001b[1m888/888\u001b[0m \u001b[32m━━━━━━━━━━━━━━━━━━━━\u001b[0m\u001b[37m\u001b[0m \u001b[1m3s\u001b[0m 3ms/step - accuracy: 0.5109 - loss: 1.5481 - val_accuracy: 0.5320 - val_loss: 1.5175\nEpoch 51/100\n\u001b[1m888/888\u001b[0m \u001b[32m━━━━━━━━━━━━━━━━━━━━\u001b[0m\u001b[37m\u001b[0m \u001b[1m3s\u001b[0m 3ms/step - accuracy: 0.5110 - loss: 1.5537 - val_accuracy: 0.5221 - val_loss: 1.5293\nEpoch 52/100\n\u001b[1m888/888\u001b[0m \u001b[32m━━━━━━━━━━━━━━━━━━━━\u001b[0m\u001b[37m\u001b[0m \u001b[1m3s\u001b[0m 3ms/step - accuracy: 0.5202 - loss: 1.5340 - val_accuracy: 0.5210 - val_loss: 1.5340\nEpoch 53/100\n\u001b[1m888/888\u001b[0m \u001b[32m━━━━━━━━━━━━━━━━━━━━\u001b[0m\u001b[37m\u001b[0m \u001b[1m3s\u001b[0m 3ms/step - accuracy: 0.5141 - loss: 1.5337 - val_accuracy: 0.5422 - val_loss: 1.5028\nEpoch 54/100\n\u001b[1m888/888\u001b[0m \u001b[32m━━━━━━━━━━━━━━━━━━━━\u001b[0m\u001b[37m\u001b[0m \u001b[1m3s\u001b[0m 3ms/step - accuracy: 0.5226 - loss: 1.5286 - val_accuracy: 0.5263 - val_loss: 1.5364\nEpoch 55/100\n\u001b[1m888/888\u001b[0m \u001b[32m━━━━━━━━━━━━━━━━━━━━\u001b[0m\u001b[37m\u001b[0m \u001b[1m3s\u001b[0m 3ms/step - accuracy: 0.5284 - loss: 1.5162 - val_accuracy: 0.5297 - val_loss: 1.5210\nEpoch 56/100\n\u001b[1m888/888\u001b[0m \u001b[32m━━━━━━━━━━━━━━━━━━━━\u001b[0m\u001b[37m\u001b[0m \u001b[1m3s\u001b[0m 3ms/step - accuracy: 0.5191 - loss: 1.5227 - val_accuracy: 0.5402 - val_loss: 1.5084\nEpoch 57/100\n\u001b[1m888/888\u001b[0m \u001b[32m━━━━━━━━━━━━━━━━━━━━\u001b[0m\u001b[37m\u001b[0m \u001b[1m3s\u001b[0m 3ms/step - accuracy: 0.5251 - loss: 1.5197 - val_accuracy: 0.5322 - val_loss: 1.5207\nEpoch 58/100\n\u001b[1m888/888\u001b[0m \u001b[32m━━━━━━━━━━━━━━━━━━━━\u001b[0m\u001b[37m\u001b[0m \u001b[1m3s\u001b[0m 3ms/step - accuracy: 0.5179 - loss: 1.5457 - val_accuracy: 0.5464 - val_loss: 1.5094\nEpoch 59/100\n\u001b[1m888/888\u001b[0m \u001b[32m━━━━━━━━━━━━━━━━━━━━\u001b[0m\u001b[37m\u001b[0m \u001b[1m3s\u001b[0m 3ms/step - accuracy: 0.5275 - loss: 1.5207 - val_accuracy: 0.5333 - val_loss: 1.5171\nEpoch 60/100\n\u001b[1m888/888\u001b[0m \u001b[32m━━━━━━━━━━━━━━━━━━━━\u001b[0m\u001b[37m\u001b[0m \u001b[1m3s\u001b[0m 3ms/step - accuracy: 0.5248 - loss: 1.5183 - val_accuracy: 0.5388 - val_loss: 1.5091\nEpoch 61/100\n\u001b[1m888/888\u001b[0m \u001b[32m━━━━━━━━━━━━━━━━━━━━\u001b[0m\u001b[37m\u001b[0m \u001b[1m3s\u001b[0m 3ms/step - accuracy: 0.5222 - loss: 1.5276 - val_accuracy: 0.5288 - val_loss: 1.5442\nEpoch 62/100\n\u001b[1m888/888\u001b[0m \u001b[32m━━━━━━━━━━━━━━━━━━━━\u001b[0m\u001b[37m\u001b[0m \u001b[1m3s\u001b[0m 3ms/step - accuracy: 0.5347 - loss: 1.4905 - val_accuracy: 0.5354 - val_loss: 1.5248\nEpoch 63/100\n\u001b[1m888/888\u001b[0m \u001b[32m━━━━━━━━━━━━━━━━━━━━\u001b[0m\u001b[37m\u001b[0m \u001b[1m3s\u001b[0m 3ms/step - accuracy: 0.5344 - loss: 1.5012 - val_accuracy: 0.5299 - val_loss: 1.5306\n",
          "output_type": "stream"
        }
      ]
    },
    {
      "cell_type": "code",
      "source": [
        "\n",
        "# Evaluate the model on the test set\n",
        "test_loss, test_acc = model.evaluate(test_data, test_num_labels)\n",
        "print(\"Test accuracy:\", test_acc)\n"
      ],
      "metadata": {
        "execution": {
          "iopub.status.busy": "2024-04-30T14:20:02.368903Z",
          "iopub.execute_input": "2024-04-30T14:20:02.369264Z",
          "iopub.status.idle": "2024-04-30T14:20:03.633777Z",
          "shell.execute_reply.started": "2024-04-30T14:20:02.369239Z",
          "shell.execute_reply": "2024-04-30T14:20:03.632619Z"
        },
        "trusted": true,
        "id": "-ECv7cJGPBJu",
        "outputId": "55df46c4-43d8-429b-bdde-56a8fc9b960f"
      },
      "execution_count": null,
      "outputs": [
        {
          "name": "stdout",
          "text": "\u001b[1m148/148\u001b[0m \u001b[32m━━━━━━━━━━━━━━━━━━━━\u001b[0m\u001b[37m\u001b[0m \u001b[1m1s\u001b[0m 5ms/step - accuracy: 0.5444 - loss: 1.5668\nTest accuracy: 0.5536544322967529\n",
          "output_type": "stream"
        }
      ]
    },
    {
      "cell_type": "code",
      "source": [
        "# Plot training & validation accuracy values\n",
        "plt.figure(figsize=(12, 6))\n",
        "plt.subplot(1, 2, 1)\n",
        "plt.plot(history.history['accuracy'])\n",
        "plt.plot(history.history['val_accuracy'])\n",
        "plt.title('Model accuracy')\n",
        "plt.ylabel('Accuracy')\n",
        "plt.xlabel('Epoch')\n",
        "plt.legend(['Train', 'Validation'], loc='upper left')\n",
        "\n",
        "# Plot training & validation loss values\n",
        "plt.subplot(1, 2, 2)\n",
        "plt.plot(history.history['loss'])\n",
        "plt.plot(history.history['val_loss'])\n",
        "plt.title('Model loss')\n",
        "plt.ylabel('Loss')\n",
        "plt.xlabel('Epoch')\n",
        "plt.legend(['Train', 'Validation'], loc='upper left')\n",
        "\n",
        "plt.tight_layout()\n",
        "plt.show()"
      ],
      "metadata": {
        "trusted": true,
        "id": "oDIJ5r12PBJv"
      },
      "execution_count": null,
      "outputs": []
    }
  ]
}